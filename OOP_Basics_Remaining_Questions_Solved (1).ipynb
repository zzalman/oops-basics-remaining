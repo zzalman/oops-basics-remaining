{
 "cells": [
  {
   "cell_type": "markdown",
   "id": "909c9678-1fca-47c8-93fa-fcb679974c38",
   "metadata": {},
   "source": [
    "OOP_Basics_Remaining_Questions_Solved"
   ]
  },
  {
   "cell_type": "markdown",
   "id": "a6d257ca-512c-4565-8320-3b372f1f73d7",
   "metadata": {},
   "source": [
    "question 9\n",
    "Create a class Shape with a method to calculate area. Create subclasses Circle, Rectangle, and Triangle that inherit from Shape and implement their specific area calculations."
   ]
  },
  {
   "cell_type": "code",
   "execution_count": 3,
   "id": "bdeb9323-b85d-45ab-a2a9-73ecf8ddd6b7",
   "metadata": {},
   "outputs": [
    {
     "name": "stdin",
     "output_type": "stream",
     "text": [
      "enter a radius   4\n"
     ]
    },
    {
     "name": "stdout",
     "output_type": "stream",
     "text": [
      "area of Circle is 50.24\n"
     ]
    },
    {
     "name": "stdin",
     "output_type": "stream",
     "text": [
      "enter a length   2\n",
      "enter a width   4\n"
     ]
    },
    {
     "name": "stdout",
     "output_type": "stream",
     "text": [
      "area of Rectangle is 8\n"
     ]
    },
    {
     "name": "stdin",
     "output_type": "stream",
     "text": [
      "enter a base   6\n",
      "enter a hight   7\n"
     ]
    },
    {
     "name": "stdout",
     "output_type": "stream",
     "text": [
      "area of Triangle is 21.0\n"
     ]
    }
   ],
   "source": [
    "class Shape:\n",
    "    def __init__(self):\n",
    "        pass\n",
    "class Circle(Shape):\n",
    "    def __init__(self,radius):\n",
    "        self.radius = radius\n",
    "    def area_c(self):\n",
    "        area = 3.14*(self.radius**2)\n",
    "        print(f\"area of Circle is {area}\")\n",
    "class Rectangle(Shape):\n",
    "    def __init__(self,length, width):\n",
    "        self.length = length\n",
    "        self.width = width\n",
    "    def area_r(self):\n",
    "        area = self.length*self.width\n",
    "        print(f\"area of Rectangle is {area}\")\n",
    "class Triangle(Shape):\n",
    "    def __init__(self,base,hight):\n",
    "        self.base = base\n",
    "        self.hight = hight\n",
    "    def area_t(self):\n",
    "        area = (self.base*self.hight)/2\n",
    "        print(f\"area of Triangle is {area}\")\n",
    "        \n",
    "a = Circle(int(input(\"enter a radius  \")))\n",
    "a.area_c()\n",
    "b = Rectangle(int(input(\"enter a length  \")),(int(input(\"enter a width  \"))))\n",
    "b.area_r()\n",
    "c = Triangle(int(input(\"enter a base  \")),(int(input(\"enter a hight  \"))))\n",
    "c.area_t()\n",
    "\n"
   ]
  },
  {
   "cell_type": "markdown",
   "id": "45884035-661c-4abd-9244-4a06b865b9c2",
   "metadata": {},
   "source": [
    "question 10\n",
    "Create a class Animal with attributes name and sound. Create subclasses Dog, Cat, and Cow that inherit from Animal and implement their specific sounds."
   ]
  },
  {
   "cell_type": "code",
   "execution_count": 8,
   "id": "4306cc05-1ea4-47be-ab93-c691fc9105e9",
   "metadata": {},
   "outputs": [
    {
     "name": "stdin",
     "output_type": "stream",
     "text": [
      "Enter name:  jack\n",
      "Enter sound:  WOOOOOOOOO WOOOOOOOOOO!!!\n"
     ]
    },
    {
     "name": "stdout",
     "output_type": "stream",
     "text": [
      "name: jack and sound is WOOOOOOOOO WOOOOOOOOOO!!! \n"
     ]
    },
    {
     "name": "stdin",
     "output_type": "stream",
     "text": [
      "Enter name:  Tom\n",
      "Enter sound:  Meow Meow \n"
     ]
    },
    {
     "name": "stdout",
     "output_type": "stream",
     "text": [
      "name: Tom and sound is Meow Meow  \n"
     ]
    },
    {
     "name": "stdin",
     "output_type": "stream",
     "text": [
      "Enter name:  Golo Molo\n",
      "Enter sound:  Mooo Moooo\n"
     ]
    },
    {
     "name": "stdout",
     "output_type": "stream",
     "text": [
      "name: Golo Molo and sound is Mooo Moooo \n"
     ]
    }
   ],
   "source": [
    "class Animal:\n",
    "    def __init__(self,name,sound):\n",
    "        self.name = name\n",
    "        self.sound = sound\n",
    "class Dog(Animal):\n",
    "    def __init__(self,name,sound):\n",
    "        super().__init__(name,sound)\n",
    "    def a_v(self): \n",
    "        print(f\"name: {self.name} and sound is {self.sound} \")\n",
    "class Cat(Animal):\n",
    "    def __init__(self,name,sound):\n",
    "        super().__init__(name,sound)\n",
    "    def a_v_cc(self): \n",
    "        print(f\"name: {self.name} and sound is {self.sound} \")\n",
    "class Cow(Animal):\n",
    "    def __init__(self,name,sound):\n",
    "        super().__init__(name,sound)\n",
    "    def a_v_c(self): \n",
    "        print(f\"name: {self.name} and sound is {self.sound} \")        \n",
    "d_name = input(\"Enter name: \")\n",
    "d_sound = input(\"Enter sound: \")\n",
    "b = Dog(d_name,d_sound)\n",
    "b.a_v()\n",
    "c_name = input(\"Enter name: \")\n",
    "c_sound = input(\"Enter sound: \")\n",
    "c= Cat(c_name,c_sound)\n",
    "c.a_v_cc()\n",
    "_name = input(\"Enter name: \")\n",
    "_sound = input(\"Enter sound: \")\n",
    "d= Cow(_name,_sound)\n",
    "d.a_v_c()\n",
    "    "
   ]
  },
  {
   "cell_type": "code",
   "execution_count": null,
   "id": "007d8093-9e0f-416b-b54e-cb82d8f005f8",
   "metadata": {},
   "outputs": [],
   "source": []
  }
 ],
 "metadata": {
  "kernelspec": {
   "display_name": "Python 3 (ipykernel)",
   "language": "python",
   "name": "python3"
  },
  "language_info": {
   "codemirror_mode": {
    "name": "ipython",
    "version": 3
   },
   "file_extension": ".py",
   "mimetype": "text/x-python",
   "name": "python",
   "nbconvert_exporter": "python",
   "pygments_lexer": "ipython3",
   "version": "3.12.4"
  }
 },
 "nbformat": 4,
 "nbformat_minor": 5
}
